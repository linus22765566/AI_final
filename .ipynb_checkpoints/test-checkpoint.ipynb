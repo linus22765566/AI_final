{
 "cells": [
  {
   "cell_type": "code",
   "execution_count": 16,
   "id": "6a937b8a-394b-440d-9a56-bea55eab38dc",
   "metadata": {},
   "outputs": [],
   "source": [
    "import matplotlib.pyplot as plt\n",
    "import pandas as pd\n",
    "import numpy as np\n",
    "\n",
    "for i in range(1,15):\n",
    "    if(i<8):\n",
    "        csv_now = pd.read_excel(\"./excel/\"+str(i)+\".xlsx\",header=1)\n",
    "    else:\n",
    "        csv_now = pd.read_excel(\"./excel/\"+str(i)+\".xlsx\",header=0)\n",
    "    if i ==1:\n",
    "        csv1 = csv_now.drop(columns = ['author'])\n",
    "    else:\n",
    "        csv1 = pd.concat([csv1,csv_now.drop(columns = ['author'])],ignore_index=True)"
   ]
  },
  {
   "cell_type": "code",
   "execution_count": 17,
   "id": "494b2c83-f929-46da-b735-b75814d6faa8",
   "metadata": {},
   "outputs": [],
   "source": [
    "csv1.loc[csv1['comment'].str.contains('由 Google 提供翻譯',na=False)] = 'None'\n",
    "csv1.loc[csv1['comment'].str.len() < 15] = 'None'\n",
    "csv1 = csv1.replace(to_replace='None', value=np.nan).dropna()\n",
    "csv1[['grade']] = csv1[['grade']].astype(np.int64)"
   ]
  },
  {
   "cell_type": "code",
   "execution_count": 18,
   "id": "7ef83ab4-de80-437d-acac-edf4cbedd929",
   "metadata": {},
   "outputs": [
    {
     "data": {
      "text/plain": [
       "<AxesSubplot:>"
      ]
     },
     "execution_count": 18,
     "metadata": {},
     "output_type": "execute_result"
    },
    {
     "data": {
      "image/png": "[encoded data removed]",
      "text/plain": [
       "<Figure size 432x288 with 1 Axes>"
      ]
     },
     "metadata": {
      "needs_background": "light"
     },
     "output_type": "display_data"
    }
   ],
   "source": [
    "csv1['grade'].value_counts().plot(kind='bar',rot=0)"
   ]
  },
  {
   "cell_type": "code",
   "execution_count": 19,
   "id": "cec39067-3d39-4209-b52f-8d8c49c84372",
   "metadata": {},
   "outputs": [
    {
     "name": "stdout",
     "output_type": "stream",
     "text": [
      "(9846, 2)\n"
     ]
    },
    {
     "data": {
      "text/html": [
       "<div>\n",
       "<style scoped>\n",
       "    .dataframe tbody tr th:only-of-type {\n",
       "        vertical-align: middle;\n",
       "    }\n",
       "\n",
       "    .dataframe tbody tr th {\n",
       "        vertical-align: top;\n",
       "    }\n",
       "\n",
       "    .dataframe thead th {\n",
       "        text-align: right;\n",
       "    }\n",
       "</style>\n",
       "<table border=\"1\" class=\"dataframe\">\n",
       "  <thead>\n",
       "    <tr style=\"text-align: right;\">\n",
       "      <th></th>\n",
       "      <th>grade</th>\n",
       "      <th>comment</th>\n",
       "    </tr>\n",
       "  </thead>\n",
       "  <tbody>\n",
       "    <tr>\n",
       "      <th>0</th>\n",
       "      <td>1</td>\n",
       "      <td>今天外帶招牌牛肉鍋\\n高麗菜沒煮熟..有點菜味\\n芋頭也沒熟\\n冬粉也太硬\\n\\n要外帶的人...</td>\n",
       "    </tr>\n",
       "    <tr>\n",
       "      <th>1</th>\n",
       "      <td>1</td>\n",
       "      <td>印象中每次經過都很多人在外面等，出於好奇來吃吃看～沒想到是送來一鍋料都塞滿了，豬肉很硬又黏在...</td>\n",
       "    </tr>\n",
       "    <tr>\n",
       "      <th>2</th>\n",
       "      <td>1</td>\n",
       "      <td>5/20晚上17:15分左右電話訂2鍋外帶，在18:30左右電聯通知會晚點去拿，接電話的人說...</td>\n",
       "    </tr>\n",
       "    <tr>\n",
       "      <th>3</th>\n",
       "      <td>1</td>\n",
       "      <td>電話訂餐時重複確認過餐點 (起士雞肉)，到場取餐也有再次確認\\n但實際拿到的餐點不管湯底或肉...</td>\n",
       "    </tr>\n",
       "    <tr>\n",
       "      <th>4</th>\n",
       "      <td>1</td>\n",
       "      <td>一鍋兩飲料  付錢295只給鍋沒給飲料\\n還要跑第二趟過去拿\\n一點道歉意思都沒有一副要你快...</td>\n",
       "    </tr>\n",
       "    <tr>\n",
       "      <th>...</th>\n",
       "      <td>...</td>\n",
       "      <td>...</td>\n",
       "    </tr>\n",
       "    <tr>\n",
       "      <th>9841</th>\n",
       "      <td>5</td>\n",
       "      <td>環境不錯，假日客人很多，要先預定位子比較好</td>\n",
       "    </tr>\n",
       "    <tr>\n",
       "      <th>9842</th>\n",
       "      <td>5</td>\n",
       "      <td>肉質不錯，服務員很親切，用餐整體下來感覺都很好～！</td>\n",
       "    </tr>\n",
       "    <tr>\n",
       "      <th>9843</th>\n",
       "      <td>5</td>\n",
       "      <td>起司牛奶鍋好吃，飲料也好喝，每來台中必吃👍</td>\n",
       "    </tr>\n",
       "    <tr>\n",
       "      <th>9844</th>\n",
       "      <td>5</td>\n",
       "      <td>男的帥 ，女的漂亮 。吃燒肉也享人文風景 。服務人員超讚 。</td>\n",
       "    </tr>\n",
       "    <tr>\n",
       "      <th>9845</th>\n",
       "      <td>5</td>\n",
       "      <td>2樓位置間距可以再寬一點會更好，3樓為vip區\\n餐飲部分就是如想像中的屋馬味道還不錯</td>\n",
       "    </tr>\n",
       "  </tbody>\n",
       "</table>\n",
       "<p>9846 rows × 2 columns</p>\n",
       "</div>"
      ],
      "text/plain": [
       "      grade                                            comment\n",
       "0         1  今天外帶招牌牛肉鍋\\n高麗菜沒煮熟..有點菜味\\n芋頭也沒熟\\n冬粉也太硬\\n\\n要外帶的人...\n",
       "1         1  印象中每次經過都很多人在外面等，出於好奇來吃吃看～沒想到是送來一鍋料都塞滿了，豬肉很硬又黏在...\n",
       "2         1  5/20晚上17:15分左右電話訂2鍋外帶，在18:30左右電聯通知會晚點去拿，接電話的人說...\n",
       "3         1  電話訂餐時重複確認過餐點 (起士雞肉)，到場取餐也有再次確認\\n但實際拿到的餐點不管湯底或肉...\n",
       "4         1  一鍋兩飲料  付錢295只給鍋沒給飲料\\n還要跑第二趟過去拿\\n一點道歉意思都沒有一副要你快...\n",
       "...     ...                                                ...\n",
       "9841      5                              環境不錯，假日客人很多，要先預定位子比較好\n",
       "9842      5                          肉質不錯，服務員很親切，用餐整體下來感覺都很好～！\n",
       "9843      5                              起司牛奶鍋好吃，飲料也好喝，每來台中必吃👍\n",
       "9844      5                     男的帥 ，女的漂亮 。吃燒肉也享人文風景 。服務人員超讚 。\n",
       "9845      5        2樓位置間距可以再寬一點會更好，3樓為vip區\\n餐飲部分就是如想像中的屋馬味道還不錯\n",
       "\n",
       "[9846 rows x 2 columns]"
      ]
     },
     "execution_count": 19,
     "metadata": {},
     "output_type": "execute_result"
    }
   ],
   "source": [
    "star1 = csv1[csv1['grade'] ==1]\n",
    "star2 = csv1[csv1['grade'] ==2]\n",
    "star3 = csv1[csv1['grade'] ==3]\n",
    "star3 = star3.sample(2200)\n",
    "star4 = csv1[csv1['grade'] ==4]\n",
    "star4 = star4.sample(2200)\n",
    "star5 = csv1[csv1['grade'] ==5]\n",
    "star5 = star5.sample(2200)\n",
    "csv1 = pd.concat([star1,star2,star3,star4,star5],ignore_index=True)\n",
    "print(csv1.shape)\n",
    "csv1"
   ]
  },
  {
   "cell_type": "code",
   "execution_count": 20,
   "id": "db680325-4034-4864-8b74-4fa8b108a6b1",
   "metadata": {},
   "outputs": [
    {
     "data": {
      "text/plain": [
       "<AxesSubplot:>"
      ]
     },
     "execution_count": 20,
     "metadata": {},
     "output_type": "execute_result"
    },
    {
     "data": {
      "image/png": "[encoded data removed]",
      "text/plain": [
       "<Figure size 432x288 with 1 Axes>"
      ]
     },
     "metadata": {
      "needs_background": "light"
     },
     "output_type": "display_data"
    }
   ],
   "source": [
    "csv1['grade'].value_counts().plot(kind='bar',rot=0)"
   ]
  },
  {
   "cell_type": "code",
   "execution_count": 3,
   "id": "155c3231-ce71-4b67-9461-7108923495b8",
   "metadata": {},
   "outputs": [],
   "source": [
    "def convertScore(score): \n",
    "     if int(score) >= 4:\n",
    "          return 'good'\n",
    "     elif int(score) == 3:\n",
    "          pass\n",
    "     else:\n",
    "          return 'bad'\n",
    "\n",
    "\n",
    "def Convert(google):\n",
    "     google['status'] = google['grade'].map(lambda e : convertScore(e))\n",
    "     google = google[google['status'].isin(['good', 'bad'])]\n",
    "     google['status'] = google['status'].replace({'good':1, 'bad': 0})\n",
    "     google = google.drop(columns = ['grade'])\n",
    "     return google\n",
    "\n"
   ]
  },
  {
   "cell_type": "code",
   "execution_count": null,
   "id": "8a21026e-2dec-4647-963f-c802dc855b08",
   "metadata": {},
   "outputs": [],
   "source": []
  },
  {
   "cell_type": "code",
   "execution_count": 4,
   "id": "96d9cbcd-8365-4daf-8f53-d77f4be11558",
   "metadata": {},
   "outputs": [
    {
     "name": "stderr",
     "output_type": "stream",
     "text": [
      "C:\\Users\\Linus\\AppData\\Local\\Temp/ipykernel_36560/1734745602.py:13: SettingWithCopyWarning: \n",
      "A value is trying to be set on a copy of a slice from a DataFrame.\n",
      "Try using .loc[row_indexer,col_indexer] = value instead\n",
      "\n",
      "See the caveats in the documentation: https://pandas.pydata.org/pandas-docs/stable/user_guide/indexing.html#returning-a-view-versus-a-copy\n",
      "  google['status'] = google['status'].replace({'good':1, 'bad': 0})\n"
     ]
    },
    {
     "name": "stdout",
     "output_type": "stream",
     "text": [
      "                                                 comment  status\n",
      "0      這家當地人超推\\n珍珠奶茶是奶蓋，很奶很棒\\n火鍋料非常多  料多超實在\\n用餐時間人很多，...       1\n",
      "1      每鍋價格180-200，料好實在，比起同性質的小火鍋， CP值超高。肉都有6-7片，火鍋料至...       1\n",
      "2      來台中必吃的愛店\\n聽說牛奶鍋超讚\\n但我是點泰式酸辣鍋\\n香料味很重很喜歡\\n那個酸跟辣很...       1\n",
      "3                       泡菜鍋真的很夠味，魚酥給的大方，吃了開心，下次想買回家自己煮加料       1\n",
      "4      以前就常常跟朋友聚餐來吃～今天吃吃辣味起司豬肉鍋～對於不敢吃單吃起司鍋的我 這個辣味起司鍋真...       1\n",
      "...                                                  ...     ...\n",
      "31212    推薦給喜歡吃燒烤的朋友們\\n服務品質很讚👍\\n\\n非常喜歡店內氛圍\\n服務人員的服務都很到位👍       1\n",
      "31213  很棒的烤肉經驗，場地座位都超大，套餐內容豐富，我們點的是1980的豐禾豚肉套餐，有鮭魚味噌湯...       1\n",
      "31480                                                  …       1\n",
      "31493                                                 👍🏻       1\n",
      "31515                                                👍👍👍       1\n",
      "\n",
      "[20679 rows x 2 columns]\n"
     ]
    },
    {
     "name": "stderr",
     "output_type": "stream",
     "text": [
      "Some weights of the model checkpoint at hfl/chinese-bert-wwm-ext were not used when initializing BertForSequenceClassification: ['cls.predictions.transform.LayerNorm.bias', 'cls.predictions.transform.dense.bias', 'cls.seq_relationship.bias', 'cls.predictions.decoder.weight', 'cls.predictions.transform.LayerNorm.weight', 'cls.predictions.transform.dense.weight', 'cls.seq_relationship.weight', 'cls.predictions.bias']\n",
      "- This IS expected if you are initializing BertForSequenceClassification from the checkpoint of a model trained on another task or with another architecture (e.g. initializing a BertForSequenceClassification model from a BertForPreTraining model).\n",
      "- This IS NOT expected if you are initializing BertForSequenceClassification from the checkpoint of a model that you expect to be exactly identical (initializing a BertForSequenceClassification model from a BertForSequenceClassification model).\n",
      "Some weights of BertForSequenceClassification were not initialized from the model checkpoint at hfl/chinese-bert-wwm-ext and are newly initialized: ['classifier.weight', 'classifier.bias']\n",
      "You should probably TRAIN this model on a down-stream task to be able to use it for predictions and inference.\n",
      "C:\\Python39\\lib\\site-packages\\simpletransformers\\classification\\classification_model.py:601: UserWarning: Dataframe headers not specified. Falling back to using column 0 as text and column 1 as labels.\n",
      "  warnings.warn(\n"
     ]
    },
    {
     "data": {
      "application/vnd.jupyter.widget-view+json": {
       "model_id": "974b7b61f3404436a107ff36a012e3d1",
       "version_major": 2,
       "version_minor": 0
      },
      "text/plain": [
       "  0%|          | 0/16543 [00:00<?, ?it/s]"
      ]
     },
     "metadata": {},
     "output_type": "display_data"
    },
    {
     "name": "stderr",
     "output_type": "stream",
     "text": [
      "C:\\Python39\\lib\\site-packages\\transformers\\optimization.py:306: FutureWarning: This implementation of AdamW is deprecated and will be removed in a future version. Use the PyTorch implementation torch.optim.AdamW instead, or set `no_deprecation_warning=True` to disable this warning\n",
      "  warnings.warn(\n"
     ]
    },
    {
     "data": {
      "application/vnd.jupyter.widget-view+json": {
       "model_id": "f98314eb28424de9b599b2ac6a469393",
       "version_major": 2,
       "version_minor": 0
      },
      "text/plain": [
       "Epoch:   0%|          | 0/1 [00:00<?, ?it/s]"
      ]
     },
     "metadata": {},
     "output_type": "display_data"
    },
    {
     "data": {
      "application/vnd.jupyter.widget-view+json": {
       "model_id": "b1ea2d3f41414817af1f1053521bdac9",
       "version_major": 2,
       "version_minor": 0
      },
      "text/plain": [
       "Running Epoch 0 of 1:   0%|          | 0/2068 [00:00<?, ?it/s]"
      ]
     },
     "metadata": {},
     "output_type": "display_data"
    },
    {
     "name": "stderr",
     "output_type": "stream",
     "text": [
      "C:\\Python39\\lib\\site-packages\\torch\\optim\\lr_scheduler.py:131: UserWarning: Detected call of `lr_scheduler.step()` before `optimizer.step()`. In PyTorch 1.1.0 and later, you should call them in the opposite order: `optimizer.step()` before `lr_scheduler.step()`.  Failure to do this will result in PyTorch skipping the first value of the learning rate schedule. See more details at https://pytorch.org/docs/stable/optim.html#how-to-adjust-learning-rate\n",
      "  warnings.warn(\"Detected call of `lr_scheduler.step()` before `optimizer.step()`. \"\n",
      "C:\\Python39\\lib\\site-packages\\simpletransformers\\classification\\classification_model.py:1442: UserWarning: Dataframe headers not specified. Falling back to using column 0 as text and column 1 as labels.\n",
      "  warnings.warn(\n"
     ]
    },
    {
     "data": {
      "application/vnd.jupyter.widget-view+json": {
       "model_id": "22bf9a64d81a4e78a79b054af491effa",
       "version_major": 2,
       "version_minor": 0
      },
      "text/plain": [
       "  0%|          | 0/4136 [00:00<?, ?it/s]"
      ]
     },
     "metadata": {},
     "output_type": "display_data"
    },
    {
     "data": {
      "application/vnd.jupyter.widget-view+json": {
       "model_id": "1a7e8fc0aa3f4688b6bba8de5d8017b3",
       "version_major": 2,
       "version_minor": 0
      },
      "text/plain": [
       "Running Evaluation:   0%|          | 0/517 [00:00<?, ?it/s]"
      ]
     },
     "metadata": {},
     "output_type": "display_data"
    },
    {
     "name": "stdout",
     "output_type": "stream",
     "text": [
      "{'mcc': 0.8087241072066188, 'tp': 3669, 'tn': 329, 'fp': 82, 'fn': 56, 'auroc': 0.9839863485687227, 'auprc': 0.9980152075322426, 'f1': 0.9815409309791333, 'acc': 0.9666344294003868, 'eval_loss': 0.12113931544514182}\n"
     ]
    },
    {
     "data": {
      "image/png": "[encoded data removed]",
      "text/plain": [
       "<Figure size 360x360 with 2 Axes>"
      ]
     },
     "metadata": {
      "needs_background": "light"
     },
     "output_type": "display_data"
    }
   ],
   "source": [
    "# 2 lobel version\n",
    "csv1 = Convert(csv1)\n",
    "\n",
    "csv1.loc[csv1['comment'].str.contains('由 Google 提供翻譯',na=False)] = 'None'\n",
    "csv_2label = csv1.replace(to_replace='None', value=np.nan).dropna()\n",
    "csv_2label[['status']] = csv_2label[['status']].astype(np.int64)\n",
    "print(csv_2label)\n",
    "from sklearn.model_selection import train_test_split\n",
    "from sklearn.metrics import confusion_matrix,accuracy_score,f1_score\n",
    "train_df, test_df = train_test_split(csv_2label, test_size = 0.2, random_state = 927)\n",
    "\n",
    "from simpletransformers.classification import ClassificationModel\n",
    "#?ClassificationModel\n",
    "model = ClassificationModel('bert', 'hfl/chinese-bert-wwm-ext')\n",
    "model.train_model(train_df, args = {'overwrite_output_dir': True})\n",
    "result, model_output, wrong_predictions = model.eval_model(test_df,f1=f1_score,acc=accuracy_score)\n",
    "\n",
    "G_Confusion = [[result['tp'],result['tn']],[result['fp'],result['fn']]]\n",
    "\n",
    "import matplotlib.pyplot as plt\n",
    "plt.figure(figsize=(5,5))\n",
    "plt.imshow(G_Confusion)\n",
    "plt.title('confusion_matrix')\n",
    "plt.colorbar()\n",
    "num = np.array(range(len(['Positive','Negative'])))    \n",
    "plt.xticks(num, ['Positive','Negative'])    \n",
    "plt.yticks(num, ['Positive','Negative'])\n",
    "plt.ylabel('True label')    \n",
    "plt.xlabel('Predicted label')\n",
    "print(result)"
   ]
  },
  {
   "cell_type": "code",
   "execution_count": 21,
   "id": "a4f64260-0fcb-450b-aae5-26a84f4265af",
   "metadata": {},
   "outputs": [
    {
     "name": "stderr",
     "output_type": "stream",
     "text": [
      "Some weights of the model checkpoint at hfl/chinese-bert-wwm-ext were not used when initializing BertForSequenceClassification: ['cls.predictions.transform.LayerNorm.weight', 'cls.seq_relationship.weight', 'cls.predictions.transform.dense.weight', 'cls.predictions.decoder.weight', 'cls.predictions.transform.dense.bias', 'cls.seq_relationship.bias', 'cls.predictions.transform.LayerNorm.bias', 'cls.predictions.bias']\n",
      "- This IS expected if you are initializing BertForSequenceClassification from the checkpoint of a model trained on another task or with another architecture (e.g. initializing a BertForSequenceClassification model from a BertForPreTraining model).\n",
      "- This IS NOT expected if you are initializing BertForSequenceClassification from the checkpoint of a model that you expect to be exactly identical (initializing a BertForSequenceClassification model from a BertForSequenceClassification model).\n",
      "Some weights of BertForSequenceClassification were not initialized from the model checkpoint at hfl/chinese-bert-wwm-ext and are newly initialized: ['classifier.weight', 'classifier.bias']\n",
      "You should probably TRAIN this model on a down-stream task to be able to use it for predictions and inference.\n",
      "C:\\Python39\\lib\\site-packages\\simpletransformers\\classification\\classification_model.py:601: UserWarning: Dataframe headers not specified. Falling back to using column 0 as text and column 1 as labels.\n",
      "  warnings.warn(\n"
     ]
    },
    {
     "data": {
      "application/vnd.jupyter.widget-view+json": {
       "model_id": "d4962b433d5b4a94988b0c67211707e0",
       "version_major": 2,
       "version_minor": 0
      },
      "text/plain": [
       "  0%|          | 0/7876 [00:00<?, ?it/s]"
      ]
     },
     "metadata": {},
     "output_type": "display_data"
    },
    {
     "name": "stderr",
     "output_type": "stream",
     "text": [
      "C:\\Python39\\lib\\site-packages\\transformers\\optimization.py:306: FutureWarning: This implementation of AdamW is deprecated and will be removed in a future version. Use the PyTorch implementation torch.optim.AdamW instead, or set `no_deprecation_warning=True` to disable this warning\n",
      "  warnings.warn(\n"
     ]
    },
    {
     "data": {
      "application/vnd.jupyter.widget-view+json": {
       "model_id": "78a9ba417f7c4cba810f95e08b1e64d2",
       "version_major": 2,
       "version_minor": 0
      },
      "text/plain": [
       "Epoch:   0%|          | 0/1 [00:00<?, ?it/s]"
      ]
     },
     "metadata": {},
     "output_type": "display_data"
    },
    {
     "data": {
      "application/vnd.jupyter.widget-view+json": {
       "model_id": "49958b842deb4149b3b55f005f385d93",
       "version_major": 2,
       "version_minor": 0
      },
      "text/plain": [
       "Running Epoch 0 of 1:   0%|          | 0/985 [00:00<?, ?it/s]"
      ]
     },
     "metadata": {},
     "output_type": "display_data"
    },
    {
     "name": "stderr",
     "output_type": "stream",
     "text": [
      "C:\\Python39\\lib\\site-packages\\simpletransformers\\classification\\classification_model.py:1442: UserWarning: Dataframe headers not specified. Falling back to using column 0 as text and column 1 as labels.\n",
      "  warnings.warn(\n"
     ]
    },
    {
     "data": {
      "application/vnd.jupyter.widget-view+json": {
       "model_id": "69cb846033ef40279a5cb521b88360e1",
       "version_major": 2,
       "version_minor": 0
      },
      "text/plain": [
       "  0%|          | 0/1970 [00:00<?, ?it/s]"
      ]
     },
     "metadata": {},
     "output_type": "display_data"
    },
    {
     "data": {
      "application/vnd.jupyter.widget-view+json": {
       "model_id": "3d1d9f19b74f421e8cd0e4d1be825626",
       "version_major": 2,
       "version_minor": 0
      },
      "text/plain": [
       "Running Evaluation:   0%|          | 0/247 [00:00<?, ?it/s]"
      ]
     },
     "metadata": {},
     "output_type": "display_data"
    },
    {
     "name": "stdout",
     "output_type": "stream",
     "text": [
      "{'mcc': 0.48584594471044573, 'f1': 0.5934010152284264, 'acc': 0.5934010152284264, 'eval_loss': 0.962242836894294}\n"
     ]
    },
    {
     "data": {
      "image/png": "[encoded data removed]",
      "text/plain": [
       "<Figure size 360x360 with 2 Axes>"
      ]
     },
     "metadata": {
      "needs_background": "light"
     },
     "output_type": "display_data"
    }
   ],
   "source": [
    "# 5 lobel version\n",
    "\n",
    "csv1.loc[csv1['comment'].str.contains('由 Google 提供翻譯',na=False)] = 'None'\n",
    "from sklearn.metrics import confusion_matrix,accuracy_score,f1_score\n",
    "\n",
    "def f1_multiclass(labels,preds):\n",
    "    return f1_score(labels,preds,average='micro')\n",
    "\n",
    "csv1 = csv1.replace(to_replace='None', value=np.nan).dropna()\n",
    "csv1[['grade']] = csv1[['grade']]-1\n",
    "csv1[['grade']] = csv1[['grade']].astype(np.int64)\n",
    "csv1 = csv1.reindex(columns=['comment','grade'])\n",
    "\n",
    "from sklearn.model_selection import train_test_split\n",
    "train_df, test_df = train_test_split(csv1, test_size = 0.2, random_state = 927)\n",
    "\n",
    "from simpletransformers.classification import ClassificationModel\n",
    "#?ClassificationModel\n",
    "model = ClassificationModel('bert', 'hfl/chinese-bert-wwm-ext',num_labels=5)\n",
    "model.train_model(train_df, args = {'overwrite_output_dir': True})\n",
    "\n",
    "result, model_output, wrong_predictions = model.eval_model(test_df,f1=f1_multiclass,acc=accuracy_score)\n",
    "\n",
    "origin_label = test_df['grade'].values.tolist()\n",
    "predict_label = np.argmax(model_output, axis=1).tolist()\n",
    "\n",
    "G_Confusion = confusion_matrix(origin_label,predict_label)\n",
    "plt.figure(figsize=(5,5))\n",
    "plt.imshow(G_Confusion)\n",
    "plt.title('confusion_matrix')\n",
    "plt.colorbar()\n",
    "num = np.array(range(len(['1','2','3','4','5'])))    \n",
    "plt.xticks(num,['1','2','3','4','5'])\n",
    "plt.yticks(num, ['1','2','3','4','5'])\n",
    "plt.ylabel('True label')\n",
    "plt.xlabel('Predicted label')\n",
    "print(result)"
   ]
  },
  {
   "cell_type": "code",
   "execution_count": 22,
   "id": "58b9f809-2759-40dc-b5b3-f8b48e9897f5",
   "metadata": {},
   "outputs": [
    {
     "data": {
      "text/html": [
       "<div>\n",
       "<style scoped>\n",
       "    .dataframe tbody tr th:only-of-type {\n",
       "        vertical-align: middle;\n",
       "    }\n",
       "\n",
       "    .dataframe tbody tr th {\n",
       "        vertical-align: top;\n",
       "    }\n",
       "\n",
       "    .dataframe thead th {\n",
       "        text-align: right;\n",
       "    }\n",
       "</style>\n",
       "<table border=\"1\" class=\"dataframe\">\n",
       "  <thead>\n",
       "    <tr style=\"text-align: right;\">\n",
       "      <th></th>\n",
       "      <th>comment</th>\n",
       "      <th>grade</th>\n",
       "    </tr>\n",
       "  </thead>\n",
       "  <tbody>\n",
       "    <tr>\n",
       "      <th>968</th>\n",
       "      <td>失望！預約3:30卻到4:10才進場，進場後都沒人招待、點餐！還要自行詢問點餐和兒童座椅，兒...</td>\n",
       "      <td>0</td>\n",
       "    </tr>\n",
       "    <tr>\n",
       "      <th>6716</th>\n",
       "      <td>攤位雖少但反而精緻，少了名氣廣大的觀光夜市會有的商業氣息，反而才能真正享受夜市的價值，值得推...</td>\n",
       "      <td>3</td>\n",
       "    </tr>\n",
       "    <tr>\n",
       "      <th>5143</th>\n",
       "      <td>點1880的套餐\\n牛肉腥味很重\\n豬肉比牛肉好吃\\n整體用餐感覺普普\\n\\n應該是疫情關係...</td>\n",
       "      <td>2</td>\n",
       "    </tr>\n",
       "    <tr>\n",
       "      <th>6529</th>\n",
       "      <td>動線是一長條走廊而非一大片區域，有種要走很遠才能找到想吃食物的感覺，並不是很方便\\n食物雖新...</td>\n",
       "      <td>3</td>\n",
       "    </tr>\n",
       "    <tr>\n",
       "      <th>9509</th>\n",
       "      <td>第一次吃，11跟19服務生很好，愉快的用餐體驗。</td>\n",
       "      <td>4</td>\n",
       "    </tr>\n",
       "    <tr>\n",
       "      <th>...</th>\n",
       "      <td>...</td>\n",
       "      <td>...</td>\n",
       "    </tr>\n",
       "    <tr>\n",
       "      <th>1211</th>\n",
       "      <td>給一顆星是真針對某一兩位服務生，不然給一星都嫌奢侈，公司聚會約莫深夜11點被安排進包廂，外面...</td>\n",
       "      <td>0</td>\n",
       "    </tr>\n",
       "    <tr>\n",
       "      <th>4586</th>\n",
       "      <td>整體都很好 ，但是空調冷氣需要改進 ！冷氣不涼 太熱 無法好好享用餐點！</td>\n",
       "      <td>2</td>\n",
       "    </tr>\n",
       "    <tr>\n",
       "      <th>4110</th>\n",
       "      <td>服務人員都很好\\n烤網更換快速\\n肉的品質大部分都還不錯</td>\n",
       "      <td>2</td>\n",
       "    </tr>\n",
       "    <tr>\n",
       "      <th>7436</th>\n",
       "      <td>口袋準備多點錢，保證吃肉吃到怕；食材新鮮，要先預約！</td>\n",
       "      <td>3</td>\n",
       "    </tr>\n",
       "    <tr>\n",
       "      <th>4156</th>\n",
       "      <td>電話可以掛好嗎 拜託 我只是想打通電話而已</td>\n",
       "      <td>2</td>\n",
       "    </tr>\n",
       "  </tbody>\n",
       "</table>\n",
       "<p>1970 rows × 2 columns</p>\n",
       "</div>"
      ],
      "text/plain": [
       "                                                comment  grade\n",
       "968   失望！預約3:30卻到4:10才進場，進場後都沒人招待、點餐！還要自行詢問點餐和兒童座椅，兒...      0\n",
       "6716  攤位雖少但反而精緻，少了名氣廣大的觀光夜市會有的商業氣息，反而才能真正享受夜市的價值，值得推...      3\n",
       "5143  點1880的套餐\\n牛肉腥味很重\\n豬肉比牛肉好吃\\n整體用餐感覺普普\\n\\n應該是疫情關係...      2\n",
       "6529  動線是一長條走廊而非一大片區域，有種要走很遠才能找到想吃食物的感覺，並不是很方便\\n食物雖新...      3\n",
       "9509                           第一次吃，11跟19服務生很好，愉快的用餐體驗。      4\n",
       "...                                                 ...    ...\n",
       "1211  給一顆星是真針對某一兩位服務生，不然給一星都嫌奢侈，公司聚會約莫深夜11點被安排進包廂，外面...      0\n",
       "4586               整體都很好 ，但是空調冷氣需要改進 ！冷氣不涼 太熱 無法好好享用餐點！      2\n",
       "4110                       服務人員都很好\\n烤網更換快速\\n肉的品質大部分都還不錯      2\n",
       "7436                         口袋準備多點錢，保證吃肉吃到怕；食材新鮮，要先預約！      3\n",
       "4156                              電話可以掛好嗎 拜託 我只是想打通電話而已      2\n",
       "\n",
       "[1970 rows x 2 columns]"
      ]
     },
     "execution_count": 22,
     "metadata": {},
     "output_type": "execute_result"
    }
   ],
   "source": [
    "test_df"
   ]
  },
  {
   "cell_type": "code",
   "execution_count": 39,
   "id": "3a54ff44-a960-432a-9146-858cb02c69d0",
   "metadata": {},
   "outputs": [
    {
     "name": "stdin",
     "output_type": "stream",
     "text": [
      "input your review of 1 star 有夠難吃....菜都臭掉 還有蟑螂 店內衛生不佳 真的很需要加強\n",
      "input your review of 2 star 用餐體驗不佳 菜也都不太好吃 雖然沒有很貴 但整體還是差評 需要改進的地方有非常多 肉質不好 同樣價位寧願去吃石二鍋\n",
      "input your review of 3 star 我認為是還可接受的餐廳 普普通通的用餐環境&體驗 大部分都還可以接受啦 有一點點小貴就是 希望價錢可以調整一下 會更棒\n",
      "input your review of 4 star 還不錯的餐廳! 位置寬敞舒適 我認為菜品大部分也都沒甚麼問題 只剩價錢有一點點小小貴了 但很適合家庭一起來用餐! 好吃!\n",
      "input your review of 5 star 超級讚...無可挑剔的餐廳 我認為每一道菜品都非常完美 很好吃 很讚的體驗!\n"
     ]
    },
    {
     "name": "stderr",
     "output_type": "stream",
     "text": [
      "C:\\Python39\\lib\\site-packages\\simpletransformers\\classification\\classification_model.py:1442: UserWarning: Dataframe headers not specified. Falling back to using column 0 as text and column 1 as labels.\n",
      "  warnings.warn(\n"
     ]
    },
    {
     "data": {
      "application/vnd.jupyter.widget-view+json": {
       "model_id": "6ae2e5972ac84b7481d9ddcf18b85911",
       "version_major": 2,
       "version_minor": 0
      },
      "text/plain": [
       "  0%|          | 0/5 [00:00<?, ?it/s]"
      ]
     },
     "metadata": {},
     "output_type": "display_data"
    },
    {
     "data": {
      "application/vnd.jupyter.widget-view+json": {
       "model_id": "caec0dfeb98849a5a9f44730b43b5f8d",
       "version_major": 2,
       "version_minor": 0
      },
      "text/plain": [
       "Running Evaluation:   0%|          | 0/1 [00:00<?, ?it/s]"
      ]
     },
     "metadata": {},
     "output_type": "display_data"
    },
    {
     "name": "stdout",
     "output_type": "stream",
     "text": [
      "your review of star 1 is rated as 1 stars\n",
      "your review of star 2 is rated as 2 stars\n",
      "your review of star 3 is rated as 3 stars\n",
      "your review of star 4 is rated as 4 stars\n",
      "your review of star 5 is rated as 5 stars\n"
     ]
    }
   ],
   "source": [
    "grade=[1,1,1,1,1]\n",
    "comment=[]\n",
    "for i in range(5):\n",
    "    comment.append(input(\"input your review of \"+str(i+1)+\" star\"))\n",
    "your_reviews=pd.DataFrame({\"comment\":comment,\n",
    "                \"grade\":grade})\n",
    "\n",
    "result, model_output, wrong_predictions = model.eval_model(your_reviews,f1=f1_multiclass,acc=accuracy_score)\n",
    "\n",
    "origin_label = your_reviews['grade'].values.tolist()\n",
    "predict_label = np.argmax(model_output, axis=1).tolist()\n",
    "\n",
    "for i in range(5):\n",
    "    print(\"your review of star \"+str(i+1)+\" is rated as \"+str(predict_label[i]+1)+\" stars\")"
   ]
  }
 ],
 "metadata": {
  "kernelspec": {
   "display_name": "Python 3 (ipykernel)",
   "language": "python",
   "name": "python3"
  },
  "language_info": {
   "codemirror_mode": {
    "name": "ipython",
    "version": 3
   },
   "file_extension": ".py",
   "mimetype": "text/x-python",
   "name": "python",
   "nbconvert_exporter": "python",
   "pygments_lexer": "ipython3",
   "version": "3.9.7"
  }
 },
 "nbformat": 4,
 "nbformat_minor": 5
}
